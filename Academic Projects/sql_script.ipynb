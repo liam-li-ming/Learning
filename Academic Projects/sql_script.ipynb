{
 "cells": [
  {
   "cell_type": "markdown",
   "metadata": {},
   "source": [
    "## INSERT INTO "
   ]
  },
  {
   "cell_type": "code",
   "execution_count": null,
   "metadata": {
    "vscode": {
     "languageId": "sql"
    }
   },
   "outputs": [],
   "source": [
    "-- Insert values into all columns\n",
    "INSERT INTO table_name \n",
    "VALUES (val1, val2, val3); \n",
    "\n",
    "-- Insert values into specific columns\n",
    "INSERT INTO table_name (col1, col2, col3)\n",
    "VALUES (val1, val2, val3); "
   ]
  },
  {
   "cell_type": "markdown",
   "metadata": {},
   "source": [
    "## UPDATE"
   ]
  },
  {
   "cell_type": "code",
   "execution_count": null,
   "metadata": {
    "vscode": {
     "languageId": "sql"
    }
   },
   "outputs": [],
   "source": [
    "-- Update records in the dataset\n",
    "UPDATE table_name \n",
    "SET column1 = 'content', column2 = 'content', column3 = 00\n",
    "WHERE index_column = 00; \n",
    "\n",
    "-- Example \n",
    "UPDATE Customers\n",
    "SET ContactName = 'Alfred Schmidt', City= 'Frankfurt'\n",
    "WHERE CustomerID = 1;"
   ]
  },
  {
   "cell_type": "markdown",
   "metadata": {},
   "source": [
    "## DELETE"
   ]
  },
  {
   "cell_type": "code",
   "execution_count": null,
   "metadata": {
    "vscode": {
     "languageId": "sql"
    }
   },
   "outputs": [],
   "source": [
    "-- Delete records given conditions\n",
    "DELETE FROM table_name \n",
    "WHERE condition; \n",
    "\n",
    "-- Example\n",
    "DELETE FROM Customers\n",
    "WHERE CustomerName = 'Alfreds Futterkiste'; \n",
    "\n",
    "\n",
    "-- Delete all records in a table\n",
    "DELETE FROM table_name; \n",
    "\n",
    "-- Example\n",
    "DELETE FROM Customers; \n",
    "\n",
    "\n",
    "-- Delete a table\n",
    "DROP TABLE table_name; "
   ]
  },
  {
   "cell_type": "markdown",
   "metadata": {},
   "source": [
    "## SELECT TOP 5 records using LIMIT"
   ]
  },
  {
   "cell_type": "code",
   "execution_count": null,
   "metadata": {
    "vscode": {
     "languageId": "sql"
    }
   },
   "outputs": [],
   "source": [
    "SELECT column_name FROM table_name\n",
    "WHERE condition \n",
    "LIMIT 5; "
   ]
  },
  {
   "cell_type": "markdown",
   "metadata": {},
   "source": [
    "## Aggregate Functions"
   ]
  },
  {
   "cell_type": "code",
   "execution_count": null,
   "metadata": {
    "vscode": {
     "languageId": "sql"
    }
   },
   "outputs": [],
   "source": [
    "SELECT MAX(column_name)\n",
    "FROM table_name\n",
    "WHERE condition; \n",
    "\n",
    "SELECT MIN(column_name)\n",
    "FROM table_name\n",
    "WHERE condition; \n",
    "\n",
    "SELECT COUNT(column_name)\n",
    "FROM table_name\n",
    "WHERE condition; \n",
    "\n",
    "SELECT SUM(column_name)\n",
    "FROM table_name\n",
    "WHERE condition; \n",
    "\n",
    "SELECT AVG(column_name)\n",
    "FROM table_name\n",
    "WHERE condition; "
   ]
  },
  {
   "cell_type": "markdown",
   "metadata": {},
   "source": [
    "## BETWEEN & IN"
   ]
  },
  {
   "cell_type": "code",
   "execution_count": null,
   "metadata": {
    "vscode": {
     "languageId": "sql"
    }
   },
   "outputs": [],
   "source": [
    "SELECT * FROM table_name\n",
    "WHERE column_name BETWEEN 10 AND 20; \n",
    "\n",
    "SELECT * FROM Products\n",
    "WHERE Price BETWEEN 10 AND 20; \n",
    "SELECT * FROM Products\n",
    "WHERE Price NOT BETWEEN 10 AND 20; \n",
    "\n",
    "-- Between with in\n",
    "SELECT * FROM Products\n",
    "WHERE Price BETWEEN 10 AND 20\n",
    "AND CategoryID IN (1, 2, 3); \n",
    "\n",
    "-- Select strings with a range BETWEEN\n",
    "SELECT * FROM Products\n",
    "WHERE ProductName BETWEEN 'Carnarvon Tigers' AND 'Mozzarella di Giovanni'\n",
    "ORDER BY ProductName; \n",
    "\n",
    "-- Select dates with a range BETWEEN\n",
    "SELECT * FROM Orders\n",
    "WHERE OrderDate BETWEEN '1991-01-01' AND '1996-12-31'; \n"
   ]
  }
 ],
 "metadata": {
  "language_info": {
   "name": "python"
  }
 },
 "nbformat": 4,
 "nbformat_minor": 2
}
